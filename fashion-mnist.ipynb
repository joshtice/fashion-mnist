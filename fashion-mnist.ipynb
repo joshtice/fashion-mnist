{
 "cells": [
  {
   "cell_type": "code",
   "execution_count": 1,
   "id": "65274b7c",
   "metadata": {
    "_cell_guid": "b1076dfc-b9ad-4769-8c92-a6c4dae69d19",
    "_uuid": "8f2839f25d086af736a60e9eeb907d3b93b6e0e5",
    "execution": {
     "iopub.execute_input": "2023-08-10T21:20:49.862774Z",
     "iopub.status.busy": "2023-08-10T21:20:49.861584Z",
     "iopub.status.idle": "2023-08-10T21:20:53.440699Z",
     "shell.execute_reply": "2023-08-10T21:20:53.439738Z"
    },
    "papermill": {
     "duration": 3.590697,
     "end_time": "2023-08-10T21:20:53.443539",
     "exception": false,
     "start_time": "2023-08-10T21:20:49.852842",
     "status": "completed"
    },
    "tags": []
   },
   "outputs": [],
   "source": [
    "# Standard library imports\n",
    "from pathlib import Path\n",
    "\n",
    "# Third party library imports\n",
    "import matplotlib.pyplot as plt\n",
    "import numpy as np\n",
    "import pandas as pd\n",
    "import torch\n",
    "from torch import nn\n",
    "import torch.nn.functional as F\n",
    "from tqdm.notebook import tqdm\n"
   ]
  },
  {
   "cell_type": "markdown",
   "id": "33fb1f46",
   "metadata": {
    "papermill": {
     "duration": 0.006266,
     "end_time": "2023-08-10T21:20:53.456443",
     "exception": false,
     "start_time": "2023-08-10T21:20:53.450177",
     "status": "completed"
    },
    "tags": []
   },
   "source": [
    "## Exploratory data analysis"
   ]
  },
  {
   "cell_type": "code",
   "execution_count": 2,
   "id": "3082c3d0",
   "metadata": {
    "execution": {
     "iopub.execute_input": "2023-08-10T21:20:53.470384Z",
     "iopub.status.busy": "2023-08-10T21:20:53.469891Z",
     "iopub.status.idle": "2023-08-10T21:20:54.425496Z",
     "shell.execute_reply": "2023-08-10T21:20:54.424321Z"
    },
    "papermill": {
     "duration": 0.965344,
     "end_time": "2023-08-10T21:20:54.428044",
     "exception": false,
     "start_time": "2023-08-10T21:20:53.462700",
     "status": "completed"
    },
    "tags": []
   },
   "outputs": [
    {
     "name": "stdout",
     "output_type": "stream",
     "text": [
      "fashion-mnist_test.csv\t t10k-images-idx3-ubyte  train-images-idx3-ubyte\r\n",
      "fashion-mnist_train.csv  t10k-labels-idx1-ubyte  train-labels-idx1-ubyte\r\n"
     ]
    }
   ],
   "source": [
    "!ls /kaggle/input/fashionmnist"
   ]
  },
  {
   "cell_type": "code",
   "execution_count": 3,
   "id": "ae454807",
   "metadata": {
    "execution": {
     "iopub.execute_input": "2023-08-10T21:20:54.443564Z",
     "iopub.status.busy": "2023-08-10T21:20:54.442641Z",
     "iopub.status.idle": "2023-08-10T21:21:00.456289Z",
     "shell.execute_reply": "2023-08-10T21:21:00.455200Z"
    },
    "papermill": {
     "duration": 6.023931,
     "end_time": "2023-08-10T21:21:00.458702",
     "exception": false,
     "start_time": "2023-08-10T21:20:54.434771",
     "status": "completed"
    },
    "tags": []
   },
   "outputs": [
    {
     "data": {
      "text/html": [
       "<div>\n",
       "<style scoped>\n",
       "    .dataframe tbody tr th:only-of-type {\n",
       "        vertical-align: middle;\n",
       "    }\n",
       "\n",
       "    .dataframe tbody tr th {\n",
       "        vertical-align: top;\n",
       "    }\n",
       "\n",
       "    .dataframe thead th {\n",
       "        text-align: right;\n",
       "    }\n",
       "</style>\n",
       "<table border=\"1\" class=\"dataframe\">\n",
       "  <thead>\n",
       "    <tr style=\"text-align: right;\">\n",
       "      <th></th>\n",
       "      <th>label</th>\n",
       "      <th>pixel1</th>\n",
       "      <th>pixel2</th>\n",
       "      <th>pixel3</th>\n",
       "      <th>pixel4</th>\n",
       "      <th>pixel5</th>\n",
       "      <th>pixel6</th>\n",
       "      <th>pixel7</th>\n",
       "      <th>pixel8</th>\n",
       "      <th>pixel9</th>\n",
       "      <th>...</th>\n",
       "      <th>pixel775</th>\n",
       "      <th>pixel776</th>\n",
       "      <th>pixel777</th>\n",
       "      <th>pixel778</th>\n",
       "      <th>pixel779</th>\n",
       "      <th>pixel780</th>\n",
       "      <th>pixel781</th>\n",
       "      <th>pixel782</th>\n",
       "      <th>pixel783</th>\n",
       "      <th>pixel784</th>\n",
       "    </tr>\n",
       "  </thead>\n",
       "  <tbody>\n",
       "    <tr>\n",
       "      <th>0</th>\n",
       "      <td>2</td>\n",
       "      <td>0</td>\n",
       "      <td>0</td>\n",
       "      <td>0</td>\n",
       "      <td>0</td>\n",
       "      <td>0</td>\n",
       "      <td>0</td>\n",
       "      <td>0</td>\n",
       "      <td>0</td>\n",
       "      <td>0</td>\n",
       "      <td>...</td>\n",
       "      <td>0</td>\n",
       "      <td>0</td>\n",
       "      <td>0</td>\n",
       "      <td>0</td>\n",
       "      <td>0</td>\n",
       "      <td>0</td>\n",
       "      <td>0</td>\n",
       "      <td>0</td>\n",
       "      <td>0</td>\n",
       "      <td>0</td>\n",
       "    </tr>\n",
       "    <tr>\n",
       "      <th>1</th>\n",
       "      <td>9</td>\n",
       "      <td>0</td>\n",
       "      <td>0</td>\n",
       "      <td>0</td>\n",
       "      <td>0</td>\n",
       "      <td>0</td>\n",
       "      <td>0</td>\n",
       "      <td>0</td>\n",
       "      <td>0</td>\n",
       "      <td>0</td>\n",
       "      <td>...</td>\n",
       "      <td>0</td>\n",
       "      <td>0</td>\n",
       "      <td>0</td>\n",
       "      <td>0</td>\n",
       "      <td>0</td>\n",
       "      <td>0</td>\n",
       "      <td>0</td>\n",
       "      <td>0</td>\n",
       "      <td>0</td>\n",
       "      <td>0</td>\n",
       "    </tr>\n",
       "    <tr>\n",
       "      <th>2</th>\n",
       "      <td>6</td>\n",
       "      <td>0</td>\n",
       "      <td>0</td>\n",
       "      <td>0</td>\n",
       "      <td>0</td>\n",
       "      <td>0</td>\n",
       "      <td>0</td>\n",
       "      <td>0</td>\n",
       "      <td>5</td>\n",
       "      <td>0</td>\n",
       "      <td>...</td>\n",
       "      <td>0</td>\n",
       "      <td>0</td>\n",
       "      <td>0</td>\n",
       "      <td>30</td>\n",
       "      <td>43</td>\n",
       "      <td>0</td>\n",
       "      <td>0</td>\n",
       "      <td>0</td>\n",
       "      <td>0</td>\n",
       "      <td>0</td>\n",
       "    </tr>\n",
       "    <tr>\n",
       "      <th>3</th>\n",
       "      <td>0</td>\n",
       "      <td>0</td>\n",
       "      <td>0</td>\n",
       "      <td>0</td>\n",
       "      <td>1</td>\n",
       "      <td>2</td>\n",
       "      <td>0</td>\n",
       "      <td>0</td>\n",
       "      <td>0</td>\n",
       "      <td>0</td>\n",
       "      <td>...</td>\n",
       "      <td>3</td>\n",
       "      <td>0</td>\n",
       "      <td>0</td>\n",
       "      <td>0</td>\n",
       "      <td>0</td>\n",
       "      <td>1</td>\n",
       "      <td>0</td>\n",
       "      <td>0</td>\n",
       "      <td>0</td>\n",
       "      <td>0</td>\n",
       "    </tr>\n",
       "    <tr>\n",
       "      <th>4</th>\n",
       "      <td>3</td>\n",
       "      <td>0</td>\n",
       "      <td>0</td>\n",
       "      <td>0</td>\n",
       "      <td>0</td>\n",
       "      <td>0</td>\n",
       "      <td>0</td>\n",
       "      <td>0</td>\n",
       "      <td>0</td>\n",
       "      <td>0</td>\n",
       "      <td>...</td>\n",
       "      <td>0</td>\n",
       "      <td>0</td>\n",
       "      <td>0</td>\n",
       "      <td>0</td>\n",
       "      <td>0</td>\n",
       "      <td>0</td>\n",
       "      <td>0</td>\n",
       "      <td>0</td>\n",
       "      <td>0</td>\n",
       "      <td>0</td>\n",
       "    </tr>\n",
       "  </tbody>\n",
       "</table>\n",
       "<p>5 rows × 785 columns</p>\n",
       "</div>"
      ],
      "text/plain": [
       "   label  pixel1  pixel2  pixel3  pixel4  pixel5  pixel6  pixel7  pixel8  \\\n",
       "0      2       0       0       0       0       0       0       0       0   \n",
       "1      9       0       0       0       0       0       0       0       0   \n",
       "2      6       0       0       0       0       0       0       0       5   \n",
       "3      0       0       0       0       1       2       0       0       0   \n",
       "4      3       0       0       0       0       0       0       0       0   \n",
       "\n",
       "   pixel9  ...  pixel775  pixel776  pixel777  pixel778  pixel779  pixel780  \\\n",
       "0       0  ...         0         0         0         0         0         0   \n",
       "1       0  ...         0         0         0         0         0         0   \n",
       "2       0  ...         0         0         0        30        43         0   \n",
       "3       0  ...         3         0         0         0         0         1   \n",
       "4       0  ...         0         0         0         0         0         0   \n",
       "\n",
       "   pixel781  pixel782  pixel783  pixel784  \n",
       "0         0         0         0         0  \n",
       "1         0         0         0         0  \n",
       "2         0         0         0         0  \n",
       "3         0         0         0         0  \n",
       "4         0         0         0         0  \n",
       "\n",
       "[5 rows x 785 columns]"
      ]
     },
     "execution_count": 3,
     "metadata": {},
     "output_type": "execute_result"
    }
   ],
   "source": [
    "train_data_csv = pd.read_csv(\"/kaggle/input/fashionmnist/fashion-mnist_train.csv\")\n",
    "train_data_csv.head()"
   ]
  },
  {
   "cell_type": "code",
   "execution_count": 4,
   "id": "5c30d0a4",
   "metadata": {
    "execution": {
     "iopub.execute_input": "2023-08-10T21:21:00.474306Z",
     "iopub.status.busy": "2023-08-10T21:21:00.473993Z",
     "iopub.status.idle": "2023-08-10T21:21:00.857893Z",
     "shell.execute_reply": "2023-08-10T21:21:00.856680Z"
    },
    "papermill": {
     "duration": 0.39436,
     "end_time": "2023-08-10T21:21:00.860110",
     "exception": false,
     "start_time": "2023-08-10T21:21:00.465750",
     "status": "completed"
    },
    "tags": []
   },
   "outputs": [
    {
     "name": "stdout",
     "output_type": "stream",
     "text": [
      "x shape: torch.Size([60000, 1, 28, 28])\n",
      "y shape: torch.Size([60000])\n"
     ]
    }
   ],
   "source": [
    "x = train_data_csv.loc[:, \"pixel1\":].values\n",
    "x = torch.from_numpy(x).to(torch.float32)\n",
    "x = x.view(60000, 1, 28, 28).contiguous()\n",
    "\n",
    "y = train_data_csv.label.values\n",
    "y = torch.from_numpy(y).to(torch.float32)\n",
    "\n",
    "print(f\"x shape: {x.shape}\")\n",
    "print(f\"y shape: {y.shape}\")"
   ]
  },
  {
   "cell_type": "code",
   "execution_count": 5,
   "id": "6794b90e",
   "metadata": {
    "execution": {
     "iopub.execute_input": "2023-08-10T21:21:00.876142Z",
     "iopub.status.busy": "2023-08-10T21:21:00.875841Z",
     "iopub.status.idle": "2023-08-10T21:21:00.957982Z",
     "shell.execute_reply": "2023-08-10T21:21:00.957058Z"
    },
    "papermill": {
     "duration": 0.09366,
     "end_time": "2023-08-10T21:21:00.961323",
     "exception": false,
     "start_time": "2023-08-10T21:21:00.867663",
     "status": "completed"
    },
    "tags": []
   },
   "outputs": [
    {
     "data": {
      "image/png": "[encoded data removed]",
      "text/plain": [
       "<Figure size 200x200 with 1 Axes>"
      ]
     },
     "metadata": {},
     "output_type": "display_data"
    }
   ],
   "source": [
    "fig, ax = plt.subplots(figsize=(2, 2))\n",
    "ax.imshow(x[0].permute(1, 2, 0), cmap=\"gray\")\n",
    "ax.axis(\"off\")\n",
    "plt.show()"
   ]
  },
  {
   "cell_type": "code",
   "execution_count": 6,
   "id": "dc6826bb",
   "metadata": {
    "execution": {
     "iopub.execute_input": "2023-08-10T21:21:00.993617Z",
     "iopub.status.busy": "2023-08-10T21:21:00.993127Z",
     "iopub.status.idle": "2023-08-10T21:21:01.012125Z",
     "shell.execute_reply": "2023-08-10T21:21:01.010870Z"
    },
    "papermill": {
     "duration": 0.038924,
     "end_time": "2023-08-10T21:21:01.015867",
     "exception": false,
     "start_time": "2023-08-10T21:21:00.976943",
     "status": "completed"
    },
    "tags": []
   },
   "outputs": [
    {
     "data": {
      "text/plain": [
       "0    6000\n",
       "1    6000\n",
       "2    6000\n",
       "3    6000\n",
       "4    6000\n",
       "5    6000\n",
       "6    6000\n",
       "7    6000\n",
       "8    6000\n",
       "9    6000\n",
       "Name: label, dtype: int64"
      ]
     },
     "execution_count": 6,
     "metadata": {},
     "output_type": "execute_result"
    }
   ],
   "source": [
    "train_data_csv.label.value_counts().sort_index()"
   ]
  },
  {
   "cell_type": "code",
   "execution_count": 7,
   "id": "b17cdf90",
   "metadata": {
    "execution": {
     "iopub.execute_input": "2023-08-10T21:21:01.048987Z",
     "iopub.status.busy": "2023-08-10T21:21:01.048441Z",
     "iopub.status.idle": "2023-08-10T21:21:02.536286Z",
     "shell.execute_reply": "2023-08-10T21:21:02.535274Z"
    },
    "papermill": {
     "duration": 1.506712,
     "end_time": "2023-08-10T21:21:02.538526",
     "exception": false,
     "start_time": "2023-08-10T21:21:01.031814",
     "status": "completed"
    },
    "tags": []
   },
   "outputs": [
    {
     "data": {
      "image/png": "[encoded data removed]",
      "text/plain": [
       "<Figure size 400x400 with 25 Axes>"
      ]
     },
     "metadata": {},
     "output_type": "display_data"
    }
   ],
   "source": [
    "label_map = {\n",
    "    0: \"t-shirt\",\n",
    "    1: \"trouser\",\n",
    "    2: \"pullover\",\n",
    "    3: \"dress\",\n",
    "    4: \"coat\",\n",
    "    5: \"sandal\",\n",
    "    6: \"shirt\",\n",
    "    7: \"sneaker\",\n",
    "    8: \"bag\",\n",
    "    9: \"ankle boot\",\n",
    "}\n",
    "\n",
    "def show_imgs(imgs, labels, ncols=None, figsize=(4, 4)):\n",
    "    if ncols:\n",
    "        nrows = int(np.ceil(imgs.shape[0] / ncols))\n",
    "    else:\n",
    "        ncols = int(np.ceil(np.sqrt(imgs.shape[0])))\n",
    "        nrows = ncols\n",
    "    fig, ax = plt.subplots(nrows, ncols, figsize=figsize)\n",
    "    for row in range(nrows):\n",
    "        for col in range(ncols):\n",
    "            img_idx = row * ncols + col\n",
    "            if img_idx < imgs.shape[0]:\n",
    "                ax[row][col].imshow(imgs[img_idx, ...].permute(1, 2, 0), cmap=\"gray_r\")\n",
    "                ax[row][col].set_title(labels[img_idx], fontsize=8)\n",
    "            ax[row][col].axis(\"off\")\n",
    "    fig.tight_layout()\n",
    "    return fig\n",
    "\n",
    "imgs = x[:24]\n",
    "labels = [label_map[label.item()] for label in y[:24]]\n",
    "\n",
    "fig = show_imgs(imgs, labels)\n",
    "plt.show()"
   ]
  },
  {
   "cell_type": "markdown",
   "id": "da29aff5",
   "metadata": {
    "papermill": {
     "duration": 0.008328,
     "end_time": "2023-08-10T21:21:02.555294",
     "exception": false,
     "start_time": "2023-08-10T21:21:02.546966",
     "status": "completed"
    },
    "tags": []
   },
   "source": [
    "## Splitting into training and validation datasets"
   ]
  },
  {
   "cell_type": "code",
   "execution_count": 8,
   "id": "a5e1f5bd",
   "metadata": {
    "execution": {
     "iopub.execute_input": "2023-08-10T21:21:02.572891Z",
     "iopub.status.busy": "2023-08-10T21:21:02.572580Z",
     "iopub.status.idle": "2023-08-10T21:21:02.706017Z",
     "shell.execute_reply": "2023-08-10T21:21:02.704889Z"
    },
    "papermill": {
     "duration": 0.145046,
     "end_time": "2023-08-10T21:21:02.708562",
     "exception": false,
     "start_time": "2023-08-10T21:21:02.563516",
     "status": "completed"
    },
    "tags": []
   },
   "outputs": [],
   "source": [
    "x_train = x[:25000].clone()\n",
    "y_train = y[:25000].clone()\n",
    "\n",
    "x_val = x[25000:].clone()\n",
    "y_val = y[25000:].clone()"
   ]
  },
  {
   "cell_type": "code",
   "execution_count": 9,
   "id": "4d6f3c81",
   "metadata": {
    "execution": {
     "iopub.execute_input": "2023-08-10T21:21:02.727496Z",
     "iopub.status.busy": "2023-08-10T21:21:02.726619Z",
     "iopub.status.idle": "2023-08-10T21:21:02.742407Z",
     "shell.execute_reply": "2023-08-10T21:21:02.741428Z"
    },
    "papermill": {
     "duration": 0.027323,
     "end_time": "2023-08-10T21:21:02.744539",
     "exception": false,
     "start_time": "2023-08-10T21:21:02.717216",
     "status": "completed"
    },
    "tags": []
   },
   "outputs": [
    {
     "name": "stdout",
     "output_type": "stream",
     "text": [
      "0.0:\t2529\n",
      "1.0:\t2526\n",
      "2.0:\t2461\n",
      "3.0:\t2508\n",
      "4.0:\t2431\n",
      "5.0:\t2476\n",
      "6.0:\t2532\n",
      "7.0:\t2577\n",
      "8.0:\t2464\n",
      "9.0:\t2496\n"
     ]
    }
   ],
   "source": [
    "for label, counts in zip(*y_train.unique(return_counts=True)):\n",
    "    print(f\"{label}:\\t{counts}\")"
   ]
  },
  {
   "cell_type": "code",
   "execution_count": 10,
   "id": "b5e7bda5",
   "metadata": {
    "execution": {
     "iopub.execute_input": "2023-08-10T21:21:02.761981Z",
     "iopub.status.busy": "2023-08-10T21:21:02.761712Z",
     "iopub.status.idle": "2023-08-10T21:21:03.304074Z",
     "shell.execute_reply": "2023-08-10T21:21:03.303084Z"
    },
    "papermill": {
     "duration": 0.554124,
     "end_time": "2023-08-10T21:21:03.306804",
     "exception": false,
     "start_time": "2023-08-10T21:21:02.752680",
     "status": "completed"
    },
    "tags": []
   },
   "outputs": [],
   "source": [
    "from torch.utils.data import Dataset, DataLoader\n",
    "from torchvision import transforms\n",
    "\n",
    "class FashionMNISTData(Dataset):\n",
    "    \n",
    "    def __init__(self, imgs, labels, transforms_pipeline=None):\n",
    "        self.imgs = imgs\n",
    "        self.labels = labels\n",
    "        self.transforms_pipeline=transforms_pipeline\n",
    "        \n",
    "    def __len__(self):\n",
    "        return len(self.labels)\n",
    "    \n",
    "    def __getitem__(self, idx):\n",
    "        if self.transforms_pipeline is not None:\n",
    "            return self.transforms_pipeline(self.imgs[idx]), self.labels[idx].to(torch.int64)\n",
    "        else:\n",
    "            return self.imgs[idx], self.labels[idx].to(torch.int64)\n",
    "\n",
    "train_transforms = transforms.Compose([\n",
    "    transforms.Normalize(x_train.mean(), x_train.std()),\n",
    "    transforms.RandomHorizontalFlip(p=0.5),\n",
    "])\n",
    "val_transforms = transforms.Compose([\n",
    "    transforms.Normalize(x_train.mean(), x_train.std()),\n",
    "])\n",
    "\n",
    "train_data = FashionMNISTData(x_train, y_train, transforms_pipeline=train_transforms)\n",
    "val_data  = FashionMNISTData(x_val, y_val, transforms_pipeline=val_transforms)"
   ]
  },
  {
   "cell_type": "markdown",
   "id": "31d44097",
   "metadata": {
    "papermill": {
     "duration": 0.00812,
     "end_time": "2023-08-10T21:21:03.323476",
     "exception": false,
     "start_time": "2023-08-10T21:21:03.315356",
     "status": "completed"
    },
    "tags": []
   },
   "source": [
    "## Benchmark model"
   ]
  },
  {
   "cell_type": "code",
   "execution_count": null,
   "id": "b2a961fa",
   "metadata": {
    "papermill": {
     "duration": 0.008841,
     "end_time": "2023-08-10T21:21:03.340454",
     "exception": false,
     "start_time": "2023-08-10T21:21:03.331613",
     "status": "completed"
    },
    "tags": []
   },
   "outputs": [],
   "source": []
  },
  {
   "cell_type": "markdown",
   "id": "6b50a5e3",
   "metadata": {
    "papermill": {
     "duration": 0.007892,
     "end_time": "2023-08-10T21:21:03.357189",
     "exception": false,
     "start_time": "2023-08-10T21:21:03.349297",
     "status": "completed"
    },
    "tags": []
   },
   "source": [
    "## Resnet model from scratch"
   ]
  },
  {
   "cell_type": "code",
   "execution_count": 11,
   "id": "c8048745",
   "metadata": {
    "execution": {
     "iopub.execute_input": "2023-08-10T21:21:03.374884Z",
     "iopub.status.busy": "2023-08-10T21:21:03.374573Z",
     "iopub.status.idle": "2023-08-10T21:21:03.389604Z",
     "shell.execute_reply": "2023-08-10T21:21:03.388715Z"
    },
    "papermill": {
     "duration": 0.026233,
     "end_time": "2023-08-10T21:21:03.391632",
     "exception": false,
     "start_time": "2023-08-10T21:21:03.365399",
     "status": "completed"
    },
    "tags": []
   },
   "outputs": [],
   "source": [
    "class ResnetBlock(nn.Module):\n",
    "    \n",
    "    def __init__(self, \n",
    "                 in_channels, \n",
    "                 out_channels,\n",
    "                 downsample=False,\n",
    "                 kernel_size=3,\n",
    "                 padding=1):\n",
    "\n",
    "        super().__init__()\n",
    "        self.conv1 = nn.Conv2d(in_channels, \n",
    "                               out_channels,\n",
    "                               kernel_size=kernel_size,\n",
    "                               stride=2 if downsample else 1,\n",
    "                               padding=padding)\n",
    "        self.bn1 = nn.BatchNorm2d(out_channels)\n",
    "        self.conv2 = nn.Conv2d(out_channels,\n",
    "                               out_channels,\n",
    "                               kernel_size=kernel_size,\n",
    "                               stride=1,\n",
    "                               padding=padding)\n",
    "        self.bn2 = nn.BatchNorm2d(out_channels)\n",
    "        self.dropout = nn.Dropout(p=0.5)\n",
    "        self.conv3 = nn.Conv2d(in_channels,\n",
    "                               out_channels,\n",
    "                               kernel_size=1,\n",
    "                               stride=2 if downsample else 1,\n",
    "                               padding=0)\n",
    "        \n",
    "    def forward(self, x):\n",
    "        x_init = x.clone()\n",
    "        x = F.relu(self.bn1(self.conv1(x)))\n",
    "        x = self.dropout(self.bn2(self.conv2(x)))\n",
    "        if x_init.shape[1] != x.shape[1]:\n",
    "            x_init = self.conv3(x_init)\n",
    "        return F.relu(x + x_init)\n",
    "        \n",
    "            \n",
    "\n",
    "class MiniResnet(nn.Module):\n",
    "    \n",
    "    def __init__(self, n_features):\n",
    "        super().__init__()\n",
    "        self.block1 = ResnetBlock(1, n_features)\n",
    "        self.block2 = ResnetBlock(n_features, n_features)\n",
    "        self.block3 = ResnetBlock(n_features, 2*n_features, downsample=True)\n",
    "        self.block4 = ResnetBlock(2*n_features, 2*n_features)\n",
    "        self.block5 = ResnetBlock(2*n_features, 4*n_features, downsample=True)\n",
    "        self.block6 = ResnetBlock(4*n_features, 4*n_features)\n",
    "        self.fully_connected = nn.Linear(4*n_features, 10)\n",
    "        \n",
    "    def forward(self, x):\n",
    "        x = self.block1(x)\n",
    "        x = self.block2(x)\n",
    "        x = self.block3(x)\n",
    "        x = self.block4(x)\n",
    "        x = self.block5(x)\n",
    "        x = self.block6(x)\n",
    "        return self.fully_connected(x.mean(dim=(2, 3)))\n",
    "    \n",
    "def init_weights(module):\n",
    "    if isinstance(module, nn.Conv2d):\n",
    "        nn.init.kaiming_normal_(module.weight, mode='fan_out', nonlinearity='relu')\n",
    "    elif isinstance(module, nn.Linear):\n",
    "        nn.init.xavier_uniform_(module.weight)"
   ]
  },
  {
   "cell_type": "code",
   "execution_count": 12,
   "id": "7a1f3b89",
   "metadata": {
    "execution": {
     "iopub.execute_input": "2023-08-10T21:21:03.409880Z",
     "iopub.status.busy": "2023-08-10T21:21:03.408964Z",
     "iopub.status.idle": "2023-08-10T21:21:03.546512Z",
     "shell.execute_reply": "2023-08-10T21:21:03.545433Z"
    },
    "papermill": {
     "duration": 0.149161,
     "end_time": "2023-08-10T21:21:03.548967",
     "exception": false,
     "start_time": "2023-08-10T21:21:03.399806",
     "status": "completed"
    },
    "tags": []
   },
   "outputs": [
    {
     "data": {
      "text/plain": [
       "torch.Size([64, 10])"
      ]
     },
     "execution_count": 12,
     "metadata": {},
     "output_type": "execute_result"
    }
   ],
   "source": [
    "class SimpleCNN(nn.Module):\n",
    "    \n",
    "    def __init__(self):\n",
    "        super().__init__()\n",
    "        self.conv1 = nn.Conv2d(1, 32, kernel_size=3)\n",
    "        self.maxpool1 = nn.MaxPool2d(2, stride=2, padding=1)\n",
    "        self.flatten = nn.Flatten(start_dim=1)\n",
    "        self.fc1 = nn.Linear(6272, 100)\n",
    "        self.fc2 = nn.Linear(100, 10)\n",
    "        \n",
    "    def forward(self, x):\n",
    "        x = F.relu(self.conv1(x))\n",
    "        x = self.maxpool1(x)\n",
    "        x = self.flatten(x)\n",
    "        x = F.relu(self.fc1(x))\n",
    "        return self.fc2(x)\n",
    "        \n",
    "        \n",
    "        \n",
    "test_model = SimpleCNN()\n",
    "test_model(train_data[:64][0]).shape"
   ]
  },
  {
   "cell_type": "code",
   "execution_count": 13,
   "id": "4f150cf9",
   "metadata": {
    "execution": {
     "iopub.execute_input": "2023-08-10T21:21:03.568212Z",
     "iopub.status.busy": "2023-08-10T21:21:03.566766Z",
     "iopub.status.idle": "2023-08-10T21:21:03.592331Z",
     "shell.execute_reply": "2023-08-10T21:21:03.591296Z"
    },
    "papermill": {
     "duration": 0.037094,
     "end_time": "2023-08-10T21:21:03.594551",
     "exception": false,
     "start_time": "2023-08-10T21:21:03.557457",
     "status": "completed"
    },
    "tags": []
   },
   "outputs": [
    {
     "data": {
      "text/plain": [
       "MiniResnet(\n",
       "  (block1): ResnetBlock(\n",
       "    (conv1): Conv2d(1, 32, kernel_size=(3, 3), stride=(1, 1), padding=(1, 1))\n",
       "    (bn1): BatchNorm2d(32, eps=1e-05, momentum=0.1, affine=True, track_running_stats=True)\n",
       "    (conv2): Conv2d(32, 32, kernel_size=(3, 3), stride=(1, 1), padding=(1, 1))\n",
       "    (bn2): BatchNorm2d(32, eps=1e-05, momentum=0.1, affine=True, track_running_stats=True)\n",
       "    (dropout): Dropout(p=0.5, inplace=False)\n",
       "    (conv3): Conv2d(1, 32, kernel_size=(1, 1), stride=(1, 1))\n",
       "  )\n",
       "  (block2): ResnetBlock(\n",
       "    (conv1): Conv2d(32, 32, kernel_size=(3, 3), stride=(1, 1), padding=(1, 1))\n",
       "    (bn1): BatchNorm2d(32, eps=1e-05, momentum=0.1, affine=True, track_running_stats=True)\n",
       "    (conv2): Conv2d(32, 32, kernel_size=(3, 3), stride=(1, 1), padding=(1, 1))\n",
       "    (bn2): BatchNorm2d(32, eps=1e-05, momentum=0.1, affine=True, track_running_stats=True)\n",
       "    (dropout): Dropout(p=0.5, inplace=False)\n",
       "    (conv3): Conv2d(32, 32, kernel_size=(1, 1), stride=(1, 1))\n",
       "  )\n",
       "  (block3): ResnetBlock(\n",
       "    (conv1): Conv2d(32, 64, kernel_size=(3, 3), stride=(2, 2), padding=(1, 1))\n",
       "    (bn1): BatchNorm2d(64, eps=1e-05, momentum=0.1, affine=True, track_running_stats=True)\n",
       "    (conv2): Conv2d(64, 64, kernel_size=(3, 3), stride=(1, 1), padding=(1, 1))\n",
       "    (bn2): BatchNorm2d(64, eps=1e-05, momentum=0.1, affine=True, track_running_stats=True)\n",
       "    (dropout): Dropout(p=0.5, inplace=False)\n",
       "    (conv3): Conv2d(32, 64, kernel_size=(1, 1), stride=(2, 2))\n",
       "  )\n",
       "  (block4): ResnetBlock(\n",
       "    (conv1): Conv2d(64, 64, kernel_size=(3, 3), stride=(1, 1), padding=(1, 1))\n",
       "    (bn1): BatchNorm2d(64, eps=1e-05, momentum=0.1, affine=True, track_running_stats=True)\n",
       "    (conv2): Conv2d(64, 64, kernel_size=(3, 3), stride=(1, 1), padding=(1, 1))\n",
       "    (bn2): BatchNorm2d(64, eps=1e-05, momentum=0.1, affine=True, track_running_stats=True)\n",
       "    (dropout): Dropout(p=0.5, inplace=False)\n",
       "    (conv3): Conv2d(64, 64, kernel_size=(1, 1), stride=(1, 1))\n",
       "  )\n",
       "  (block5): ResnetBlock(\n",
       "    (conv1): Conv2d(64, 128, kernel_size=(3, 3), stride=(2, 2), padding=(1, 1))\n",
       "    (bn1): BatchNorm2d(128, eps=1e-05, momentum=0.1, affine=True, track_running_stats=True)\n",
       "    (conv2): Conv2d(128, 128, kernel_size=(3, 3), stride=(1, 1), padding=(1, 1))\n",
       "    (bn2): BatchNorm2d(128, eps=1e-05, momentum=0.1, affine=True, track_running_stats=True)\n",
       "    (dropout): Dropout(p=0.5, inplace=False)\n",
       "    (conv3): Conv2d(64, 128, kernel_size=(1, 1), stride=(2, 2))\n",
       "  )\n",
       "  (block6): ResnetBlock(\n",
       "    (conv1): Conv2d(128, 128, kernel_size=(3, 3), stride=(1, 1), padding=(1, 1))\n",
       "    (bn1): BatchNorm2d(128, eps=1e-05, momentum=0.1, affine=True, track_running_stats=True)\n",
       "    (conv2): Conv2d(128, 128, kernel_size=(3, 3), stride=(1, 1), padding=(1, 1))\n",
       "    (bn2): BatchNorm2d(128, eps=1e-05, momentum=0.1, affine=True, track_running_stats=True)\n",
       "    (dropout): Dropout(p=0.5, inplace=False)\n",
       "    (conv3): Conv2d(128, 128, kernel_size=(1, 1), stride=(1, 1))\n",
       "  )\n",
       "  (fully_connected): Linear(in_features=128, out_features=10, bias=True)\n",
       ")"
      ]
     },
     "execution_count": 13,
     "metadata": {},
     "output_type": "execute_result"
    }
   ],
   "source": [
    "model = MiniResnet(32)\n",
    "model.apply(init_weights)\n",
    "\n",
    "# model = SimpleCNN()\n",
    "# model.apply(init_weights)"
   ]
  },
  {
   "cell_type": "code",
   "execution_count": 14,
   "id": "227d8a83",
   "metadata": {
    "execution": {
     "iopub.execute_input": "2023-08-10T21:21:03.613389Z",
     "iopub.status.busy": "2023-08-10T21:21:03.612625Z",
     "iopub.status.idle": "2023-08-10T21:21:03.702920Z",
     "shell.execute_reply": "2023-08-10T21:21:03.701916Z"
    },
    "papermill": {
     "duration": 0.103106,
     "end_time": "2023-08-10T21:21:03.706392",
     "exception": false,
     "start_time": "2023-08-10T21:21:03.603286",
     "status": "completed"
    },
    "tags": []
   },
   "outputs": [],
   "source": [
    "torch.manual_seed(42)\n",
    "device = torch.device(\"cuda\" if torch.cuda.is_available() else \"cpu\")\n",
    "\n",
    "batch_size = 64\n",
    "n_train_batches = len(train_data) // batch_size\n",
    "n_val_batches = len(val_data) // batch_size\n",
    "\n",
    "train_dataloader = DataLoader(train_data, batch_size=batch_size, shuffle=True, drop_last=True)\n",
    "val_dataloader = DataLoader(val_data, batch_size=batch_size, shuffle=True, drop_last=True)\n",
    "\n",
    "def calc_acc_from_logits(inputs, targets):\n",
    "    with torch.no_grad():\n",
    "        preds = torch.argmax(torch.softmax(inputs, dim=0), dim=1)\n",
    "        return torch.sum(preds == targets) / len(targets)"
   ]
  },
  {
   "cell_type": "code",
   "execution_count": 15,
   "id": "25c6fe92",
   "metadata": {
    "execution": {
     "iopub.execute_input": "2023-08-10T21:21:03.732434Z",
     "iopub.status.busy": "2023-08-10T21:21:03.731948Z",
     "iopub.status.idle": "2023-08-10T22:02:58.127230Z",
     "shell.execute_reply": "2023-08-10T22:02:58.126168Z"
    },
    "papermill": {
     "duration": 2514.4106,
     "end_time": "2023-08-10T22:02:58.129341",
     "exception": false,
     "start_time": "2023-08-10T21:21:03.718741",
     "status": "completed"
    },
    "tags": []
   },
   "outputs": [
    {
     "data": {
      "application/vnd.jupyter.widget-view+json": {
       "model_id": "84d899a0d4d645fb9369d87ab90703b3",
       "version_major": 2,
       "version_minor": 0
      },
      "text/plain": [
       "  0%|          | 0/250 [00:00<?, ?it/s]"
      ]
     },
     "metadata": {},
     "output_type": "display_data"
    }
   ],
   "source": [
    "n_epochs = 250\n",
    "\n",
    "model.to(device)\n",
    "lr = 1.e-3\n",
    "weight_decay = 1.e-4\n",
    "optim = torch.optim.SGD(model.parameters(), lr=lr, weight_decay=weight_decay)\n",
    "loss_func = nn.CrossEntropyLoss()\n",
    "\n",
    "train_batch_losses = torch.zeros(n_train_batches, device=device)\n",
    "train_batch_accuracies = torch.zeros(n_train_batches, device=device)\n",
    "train_epoch_losses = torch.zeros(n_epochs, device=device)\n",
    "train_epoch_accuracies = torch.zeros(n_epochs, device=device)\n",
    "\n",
    "val_batch_losses = torch.zeros(n_val_batches, device=device)\n",
    "val_batch_accuracies = torch.zeros(n_val_batches, device=device)\n",
    "val_epoch_losses = torch.zeros(n_epochs, device=device)\n",
    "val_epoch_accuracies = torch.zeros(n_epochs, device=device)\n",
    "\n",
    "for i in tqdm(range(n_epochs)):\n",
    "    model.train()\n",
    "    for j, (inputs, targets) in enumerate(train_dataloader):\n",
    "        inputs = inputs.to(device)\n",
    "        targets = targets.to(device)\n",
    "        optim.zero_grad()\n",
    "        outputs = model(inputs)\n",
    "        loss = loss_func(outputs, targets)\n",
    "        loss.backward()\n",
    "        optim.step()\n",
    "        \n",
    "        train_batch_losses[j] = loss.item()\n",
    "        train_batch_accuracies[j] = calc_acc_from_logits(outputs, targets)\n",
    "    train_epoch_losses[i] = train_batch_losses.mean()\n",
    "    train_epoch_accuracies[i] = train_batch_accuracies.mean()\n",
    "    \n",
    "    model.eval()\n",
    "    with torch.no_grad():\n",
    "        for k, (inputs, targets) in enumerate(val_dataloader):\n",
    "            inputs = inputs.to(device)\n",
    "            targets = targets.to(device)\n",
    "            outputs = model(inputs)\n",
    "            val_batch_losses[k] = loss_func(outputs, targets).item()\n",
    "            val_batch_accuracies[k] = calc_acc_from_logits(outputs, targets)\n",
    "    val_epoch_losses[i] = val_batch_losses.mean()\n",
    "    val_epoch_accuracies[i] = val_batch_accuracies.mean()\n",
    "            "
   ]
  },
  {
   "cell_type": "code",
   "execution_count": 16,
   "id": "252dcfe6",
   "metadata": {
    "execution": {
     "iopub.execute_input": "2023-08-10T22:02:58.148828Z",
     "iopub.status.busy": "2023-08-10T22:02:58.148532Z",
     "iopub.status.idle": "2023-08-10T22:02:58.682879Z",
     "shell.execute_reply": "2023-08-10T22:02:58.681955Z"
    },
    "papermill": {
     "duration": 0.546076,
     "end_time": "2023-08-10T22:02:58.684911",
     "exception": false,
     "start_time": "2023-08-10T22:02:58.138835",
     "status": "completed"
    },
    "tags": []
   },
   "outputs": [
    {
     "data": {
      "image/png": "[encoded data removed]",
      "text/plain": [
       "<Figure size 1000x400 with 2 Axes>"
      ]
     },
     "metadata": {},
     "output_type": "display_data"
    }
   ],
   "source": [
    "train_epoch_losses = train_epoch_losses.to(\"cpu\")\n",
    "val_epoch_losses = val_epoch_losses.to(\"cpu\")\n",
    "train_epoch_accuracies = train_epoch_accuracies.to(\"cpu\")\n",
    "val_epoch_accuracies = val_epoch_accuracies.to(\"cpu\")\n",
    "\n",
    "\n",
    "fig, ax = plt.subplots(1, 2, figsize=(10, 4))\n",
    "epoch = torch.arange(n_epochs)\n",
    "\n",
    "ax[0].plot(epoch, train_epoch_losses, label=\"train\")\n",
    "ax[0].plot(epoch, val_epoch_losses)\n",
    "ax[0].set_title(\"Loss\")\n",
    "ax[0].set_xlabel(\"Epoch\")\n",
    "ax[0].set_ylabel(\"Loss\")\n",
    "\n",
    "ax[1].plot(epoch, train_epoch_accuracies, label=\"train\")\n",
    "ax[1].plot(epoch, val_epoch_accuracies, label=\"validation\")\n",
    "ax[1].set_title(\"Accuracy\")\n",
    "ax[1].set_xlabel(\"Epoch\")\n",
    "ax[1].set_ylabel(\"Accuracy\")\n",
    "\n",
    "fig.tight_layout()\n",
    "plt.show()"
   ]
  },
  {
   "cell_type": "code",
   "execution_count": 17,
   "id": "b78eb858",
   "metadata": {
    "execution": {
     "iopub.execute_input": "2023-08-10T22:02:58.706419Z",
     "iopub.status.busy": "2023-08-10T22:02:58.704980Z",
     "iopub.status.idle": "2023-08-10T22:03:00.207173Z",
     "shell.execute_reply": "2023-08-10T22:03:00.206250Z"
    },
    "papermill": {
     "duration": 1.514802,
     "end_time": "2023-08-10T22:03:00.209366",
     "exception": false,
     "start_time": "2023-08-10T22:02:58.694564",
     "status": "completed"
    },
    "tags": []
   },
   "outputs": [
    {
     "data": {
      "image/png": "[encoded data removed]",
      "text/plain": [
       "<Figure size 400x400 with 25 Axes>"
      ]
     },
     "metadata": {},
     "output_type": "display_data"
    }
   ],
   "source": [
    "model.to(\"cpu\")\n",
    "imgs, labels = val_data[:25]\n",
    "preds = model(imgs)\n",
    "accuracy = calc_acc_from_logits(preds, labels)\n",
    "\n",
    "preds = torch.argmax(torch.softmax(preds, dim=1), dim=1)\n",
    "preds = [label_map[pred.item()] for pred in preds]\n",
    "\n",
    "fig = show_imgs(imgs, preds)\n",
    "plt.show()"
   ]
  },
  {
   "cell_type": "code",
   "execution_count": 18,
   "id": "c1737d89",
   "metadata": {
    "execution": {
     "iopub.execute_input": "2023-08-10T22:03:00.231858Z",
     "iopub.status.busy": "2023-08-10T22:03:00.231557Z",
     "iopub.status.idle": "2023-08-10T22:03:00.247058Z",
     "shell.execute_reply": "2023-08-10T22:03:00.246016Z"
    },
    "papermill": {
     "duration": 0.02922,
     "end_time": "2023-08-10T22:03:00.249261",
     "exception": false,
     "start_time": "2023-08-10T22:03:00.220041",
     "status": "completed"
    },
    "tags": []
   },
   "outputs": [
    {
     "data": {
      "text/plain": [
       "tensor(0.8400)"
      ]
     },
     "execution_count": 18,
     "metadata": {},
     "output_type": "execute_result"
    }
   ],
   "source": [
    "accuracy"
   ]
  },
  {
   "cell_type": "code",
   "execution_count": null,
   "id": "81add98b",
   "metadata": {
    "papermill": {
     "duration": 0.01021,
     "end_time": "2023-08-10T22:03:00.270075",
     "exception": false,
     "start_time": "2023-08-10T22:03:00.259865",
     "status": "completed"
    },
    "tags": []
   },
   "outputs": [],
   "source": []
  }
 ],
 "metadata": {
  "kernelspec": {
   "display_name": "Python 3",
   "language": "python",
   "name": "python3"
  },
  "language_info": {
   "codemirror_mode": {
    "name": "ipython",
    "version": 3
   },
   "file_extension": ".py",
   "mimetype": "text/x-python",
   "name": "python",
   "nbconvert_exporter": "python",
   "pygments_lexer": "ipython3",
   "version": "3.10.12"
  },
  "papermill": {
   "default_parameters": {},
   "duration": 2542.932343,
   "end_time": "2023-08-10T22:03:02.622938",
   "environment_variables": {},
   "exception": null,
   "input_path": "__notebook__.ipynb",
   "output_path": "__notebook__.ipynb",
   "parameters": {},
   "start_time": "2023-08-10T21:20:39.690595",
   "version": "2.4.0"
  },
  "widgets": {
   "application/vnd.jupyter.widget-state+json": {
    "state": {
     "07f2fc92aa874ed6894acaa4612cf280": {
      "model_module": "@jupyter-widgets/controls",
      "model_module_version": "1.5.0",
      "model_name": "DescriptionStyleModel",
      "state": {
       "_model_module": "@jupyter-widgets/controls",
       "_model_module_version": "1.5.0",
       "_model_name": "DescriptionStyleModel",
       "_view_count": null,
       "_view_module": "@jupyter-widgets/base",
       "_view_module_version": "1.2.0",
       "_view_name": "StyleView",
       "description_width": ""
      }
     },
     "1079a685b78f42548aaecba0ad8f0240": {
      "model_module": "@jupyter-widgets/base",
      "model_module_version": "1.2.0",
      "model_name": "LayoutModel",
      "state": {
       "_model_module": "@jupyter-widgets/base",
       "_model_module_version": "1.2.0",
       "_model_name": "LayoutModel",
       "_view_count": null,
       "_view_module": "@jupyter-widgets/base",
       "_view_module_version": "1.2.0",
       "_view_name": "LayoutView",
       "align_content": null,
       "align_items": null,
       "align_self": null,
       "border": null,
       "bottom": null,
       "display": null,
       "flex": null,
       "flex_flow": null,
       "grid_area": null,
       "grid_auto_columns": null,
       "grid_auto_flow": null,
       "grid_auto_rows": null,
       "grid_column": null,
       "grid_gap": null,
       "grid_row": null,
       "grid_template_areas": null,
       "grid_template_columns": null,
       "grid_template_rows": null,
       "height": null,
       "justify_content": null,
       "justify_items": null,
       "left": null,
       "margin": null,
       "max_height": null,
       "max_width": null,
       "min_height": null,
       "min_width": null,
       "object_fit": null,
       "object_position": null,
       "order": null,
       "overflow": null,
       "overflow_x": null,
       "overflow_y": null,
       "padding": null,
       "right": null,
       "top": null,
       "visibility": null,
       "width": null
      }
     },
     "198f89945481479387714f0c8915afa1": {
      "model_module": "@jupyter-widgets/base",
      "model_module_version": "1.2.0",
      "model_name": "LayoutModel",
      "state": {
       "_model_module": "@jupyter-widgets/base",
       "_model_module_version": "1.2.0",
       "_model_name": "LayoutModel",
       "_view_count": null,
       "_view_module": "@jupyter-widgets/base",
       "_view_module_version": "1.2.0",
       "_view_name": "LayoutView",
       "align_content": null,
       "align_items": null,
       "align_self": null,
       "border": null,
       "bottom": null,
       "display": null,
       "flex": null,
       "flex_flow": null,
       "grid_area": null,
       "grid_auto_columns": null,
       "grid_auto_flow": null,
       "grid_auto_rows": null,
       "grid_column": null,
       "grid_gap": null,
       "grid_row": null,
       "grid_template_areas": null,
       "grid_template_columns": null,
       "grid_template_rows": null,
       "height": null,
       "justify_content": null,
       "justify_items": null,
       "left": null,
       "margin": null,
       "max_height": null,
       "max_width": null,
       "min_height": null,
       "min_width": null,
       "object_fit": null,
       "object_position": null,
       "order": null,
       "overflow": null,
       "overflow_x": null,
       "overflow_y": null,
       "padding": null,
       "right": null,
       "top": null,
       "visibility": null,
       "width": null
      }
     },
     "1de4e2cd2b614100871fc465b4bb758a": {
      "model_module": "@jupyter-widgets/controls",
      "model_module_version": "1.5.0",
      "model_name": "DescriptionStyleModel",
      "state": {
       "_model_module": "@jupyter-widgets/controls",
       "_model_module_version": "1.5.0",
       "_model_name": "DescriptionStyleModel",
       "_view_count": null,
       "_view_module": "@jupyter-widgets/base",
       "_view_module_version": "1.2.0",
       "_view_name": "StyleView",
       "description_width": ""
      }
     },
     "2725dd8187b046e596660f471bc23e0e": {
      "model_module": "@jupyter-widgets/controls",
      "model_module_version": "1.5.0",
      "model_name": "HTMLModel",
      "state": {
       "_dom_classes": [],
       "_model_module": "@jupyter-widgets/controls",
       "_model_module_version": "1.5.0",
       "_model_name": "HTMLModel",
       "_view_count": null,
       "_view_module": "@jupyter-widgets/controls",
       "_view_module_version": "1.5.0",
       "_view_name": "HTMLView",
       "description": "",
       "description_tooltip": null,
       "layout": "IPY_MODEL_198f89945481479387714f0c8915afa1",
       "placeholder": "​",
       "style": "IPY_MODEL_07f2fc92aa874ed6894acaa4612cf280",
       "value": " 250/250 [41:51&lt;00:00,  9.93s/it]"
      }
     },
     "439ace25b213438fb27f0e12e323e9bf": {
      "model_module": "@jupyter-widgets/controls",
      "model_module_version": "1.5.0",
      "model_name": "FloatProgressModel",
      "state": {
       "_dom_classes": [],
       "_model_module": "@jupyter-widgets/controls",
       "_model_module_version": "1.5.0",
       "_model_name": "FloatProgressModel",
       "_view_count": null,
       "_view_module": "@jupyter-widgets/controls",
       "_view_module_version": "1.5.0",
       "_view_name": "ProgressView",
       "bar_style": "success",
       "description": "",
       "description_tooltip": null,
       "layout": "IPY_MODEL_c94b87bdb5e942db8e2501ed29855fda",
       "max": 250.0,
       "min": 0.0,
       "orientation": "horizontal",
       "style": "IPY_MODEL_86b824a59b76442e9e073df3c1039805",
       "value": 250.0
      }
     },
     "84d899a0d4d645fb9369d87ab90703b3": {
      "model_module": "@jupyter-widgets/controls",
      "model_module_version": "1.5.0",
      "model_name": "HBoxModel",
      "state": {
       "_dom_classes": [],
       "_model_module": "@jupyter-widgets/controls",
       "_model_module_version": "1.5.0",
       "_model_name": "HBoxModel",
       "_view_count": null,
       "_view_module": "@jupyter-widgets/controls",
       "_view_module_version": "1.5.0",
       "_view_name": "HBoxView",
       "box_style": "",
       "children": [
        "IPY_MODEL_bdf23e60dacb4663a62c008d56d82b95",
        "IPY_MODEL_439ace25b213438fb27f0e12e323e9bf",
        "IPY_MODEL_2725dd8187b046e596660f471bc23e0e"
       ],
       "layout": "IPY_MODEL_1079a685b78f42548aaecba0ad8f0240"
      }
     },
     "86b824a59b76442e9e073df3c1039805": {
      "model_module": "@jupyter-widgets/controls",
      "model_module_version": "1.5.0",
      "model_name": "ProgressStyleModel",
      "state": {
       "_model_module": "@jupyter-widgets/controls",
       "_model_module_version": "1.5.0",
       "_model_name": "ProgressStyleModel",
       "_view_count": null,
       "_view_module": "@jupyter-widgets/base",
       "_view_module_version": "1.2.0",
       "_view_name": "StyleView",
       "bar_color": null,
       "description_width": ""
      }
     },
     "ae5c0435938c4005a456aeedaa7208da": {
      "model_module": "@jupyter-widgets/base",
      "model_module_version": "1.2.0",
      "model_name": "LayoutModel",
      "state": {
       "_model_module": "@jupyter-widgets/base",
       "_model_module_version": "1.2.0",
       "_model_name": "LayoutModel",
       "_view_count": null,
       "_view_module": "@jupyter-widgets/base",
       "_view_module_version": "1.2.0",
       "_view_name": "LayoutView",
       "align_content": null,
       "align_items": null,
       "align_self": null,
       "border": null,
       "bottom": null,
       "display": null,
       "flex": null,
       "flex_flow": null,
       "grid_area": null,
       "grid_auto_columns": null,
       "grid_auto_flow": null,
       "grid_auto_rows": null,
       "grid_column": null,
       "grid_gap": null,
       "grid_row": null,
       "grid_template_areas": null,
       "grid_template_columns": null,
       "grid_template_rows": null,
       "height": null,
       "justify_content": null,
       "justify_items": null,
       "left": null,
       "margin": null,
       "max_height": null,
       "max_width": null,
       "min_height": null,
       "min_width": null,
       "object_fit": null,
       "object_position": null,
       "order": null,
       "overflow": null,
       "overflow_x": null,
       "overflow_y": null,
       "padding": null,
       "right": null,
       "top": null,
       "visibility": null,
       "width": null
      }
     },
     "bdf23e60dacb4663a62c008d56d82b95": {
      "model_module": "@jupyter-widgets/controls",
      "model_module_version": "1.5.0",
      "model_name": "HTMLModel",
      "state": {
       "_dom_classes": [],
       "_model_module": "@jupyter-widgets/controls",
       "_model_module_version": "1.5.0",
       "_model_name": "HTMLModel",
       "_view_count": null,
       "_view_module": "@jupyter-widgets/controls",
       "_view_module_version": "1.5.0",
       "_view_name": "HTMLView",
       "description": "",
       "description_tooltip": null,
       "layout": "IPY_MODEL_ae5c0435938c4005a456aeedaa7208da",
       "placeholder": "​",
       "style": "IPY_MODEL_1de4e2cd2b614100871fc465b4bb758a",
       "value": "100%"
      }
     },
     "c94b87bdb5e942db8e2501ed29855fda": {
      "model_module": "@jupyter-widgets/base",
      "model_module_version": "1.2.0",
      "model_name": "LayoutModel",
      "state": {
       "_model_module": "@jupyter-widgets/base",
       "_model_module_version": "1.2.0",
       "_model_name": "LayoutModel",
       "_view_count": null,
       "_view_module": "@jupyter-widgets/base",
       "_view_module_version": "1.2.0",
       "_view_name": "LayoutView",
       "align_content": null,
       "align_items": null,
       "align_self": null,
       "border": null,
       "bottom": null,
       "display": null,
       "flex": null,
       "flex_flow": null,
       "grid_area": null,
       "grid_auto_columns": null,
       "grid_auto_flow": null,
       "grid_auto_rows": null,
       "grid_column": null,
       "grid_gap": null,
       "grid_row": null,
       "grid_template_areas": null,
       "grid_template_columns": null,
       "grid_template_rows": null,
       "height": null,
       "justify_content": null,
       "justify_items": null,
       "left": null,
       "margin": null,
       "max_height": null,
       "max_width": null,
       "min_height": null,
       "min_width": null,
       "object_fit": null,
       "object_position": null,
       "order": null,
       "overflow": null,
       "overflow_x": null,
       "overflow_y": null,
       "padding": null,
       "right": null,
       "top": null,
       "visibility": null,
       "width": null
      }
     }
    },
    "version_major": 2,
    "version_minor": 0
   }
  }
 },
 "nbformat": 4,
 "nbformat_minor": 5
}
